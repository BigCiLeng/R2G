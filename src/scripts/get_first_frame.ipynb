{
 "cells": [
  {
   "cell_type": "code",
   "execution_count": null,
   "metadata": {},
   "outputs": [],
   "source": [
    "import cv2\n",
    "cap = cv2.VideoCapture(\"/DATA_EDS2/luoly/wangn/dataset/cutie/table_without_arm/table_without_arm.MOV\")"
   ]
  },
  {
   "cell_type": "code",
   "execution_count": null,
   "metadata": {},
   "outputs": [],
   "source": [
    "\n",
    "# cap.set(cv2.CAP_PROP_POS_FRAMES, 2500)\n",
    "ret, frame = cap.read()\n",
    "if ret:\n",
    "    cv2.imwrite(\"/DATA_EDS2/luoly/wangn/code/Cutie/output/530_scannet_table0/images/00000.jpg\", frame)\n",
    "cap.release()"
   ]
  }
 ],
 "metadata": {
  "language_info": {
   "name": "python"
  }
 },
 "nbformat": 4,
 "nbformat_minor": 2
}
